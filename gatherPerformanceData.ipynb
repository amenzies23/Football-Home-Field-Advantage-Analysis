{
 "cells": [
  {
   "cell_type": "markdown",
   "metadata": {},
   "source": [
    "Program to gather data from SoccerData, which is a python library to scrape soccer data from multiple sites. \n",
    "https://soccerdata.readthedocs.io/en/stable/intro.html\n",
    "Upon entering a league name and year in the cell 3, this program will pull all the match data from every match of that league and season. \n",
    "SoccerData caches automatically, which ensures mutliple calls of the same data will be efficient when needed. Cell 10 will clean the data, and ensure only the valid columns are being saved. Cell 12 is where the data will be saved in the corresponding folder. Renaming the csv file is required.\n",
    "\n",
    "There is already sample data inside performanceData, so it is not necessary to run this program."
   ]
  },
  {
   "cell_type": "code",
   "execution_count": 1,
   "metadata": {},
   "outputs": [
    {
     "data": {
      "text/html": [
       "<pre style=\"white-space:pre;overflow-x:auto;line-height:normal;font-family:Menlo,'DejaVu Sans Mono',consolas,'Courier New',monospace\"><span style=\"color: #7fbfbf; text-decoration-color: #7fbfbf\">[12/04/24 11:09:27] </span><span style=\"color: #000080; text-decoration-color: #000080\">INFO    </span> No custom team name replacements found. You can configure these in       <a href=\"file:///home/amenzies/.local/lib/python3.10/site-packages/soccerdata/_config.py\" target=\"_blank\"><span style=\"color: #7f7f7f; text-decoration-color: #7f7f7f\">_config.py</span></a><span style=\"color: #7f7f7f; text-decoration-color: #7f7f7f\">:</span><a href=\"file:///home/amenzies/.local/lib/python3.10/site-packages/soccerdata/_config.py#90\" target=\"_blank\"><span style=\"color: #7f7f7f; text-decoration-color: #7f7f7f\">90</span></a>\n",
       "<span style=\"color: #7fbfbf; text-decoration-color: #7fbfbf\">                    </span>         <span style=\"color: #800080; text-decoration-color: #800080\">/home/amenzies/soccerdata/config/</span><span style=\"color: #ff00ff; text-decoration-color: #ff00ff\">teamname_replacements.json.</span>             <span style=\"color: #7f7f7f; text-decoration-color: #7f7f7f\">             </span>\n",
       "</pre>\n"
      ],
      "text/plain": [
       "\u001b[2;36m[12/04/24 11:09:27]\u001b[0m\u001b[2;36m \u001b[0m\u001b[34mINFO    \u001b[0m No custom team name replacements found. You can configure these in       \u001b]8;id=870459;file:///home/amenzies/.local/lib/python3.10/site-packages/soccerdata/_config.py\u001b\\\u001b[2m_config.py\u001b[0m\u001b]8;;\u001b\\\u001b[2m:\u001b[0m\u001b]8;id=197922;file:///home/amenzies/.local/lib/python3.10/site-packages/soccerdata/_config.py#90\u001b\\\u001b[2m90\u001b[0m\u001b]8;;\u001b\\\n",
       "\u001b[2;36m                    \u001b[0m         \u001b[35m/home/amenzies/soccerdata/config/\u001b[0m\u001b[95mteamname_replacements.json.\u001b[0m             \u001b[2m             \u001b[0m\n"
      ]
     },
     "metadata": {},
     "output_type": "display_data"
    },
    {
     "data": {
      "text/html": [
       "<pre style=\"white-space:pre;overflow-x:auto;line-height:normal;font-family:Menlo,'DejaVu Sans Mono',consolas,'Courier New',monospace\"><span style=\"color: #7fbfbf; text-decoration-color: #7fbfbf\">                    </span><span style=\"color: #000080; text-decoration-color: #000080\">INFO    </span> No custom league dict found. You can configure additional leagues in    <a href=\"file:///home/amenzies/.local/lib/python3.10/site-packages/soccerdata/_config.py\" target=\"_blank\"><span style=\"color: #7f7f7f; text-decoration-color: #7f7f7f\">_config.py</span></a><span style=\"color: #7f7f7f; text-decoration-color: #7f7f7f\">:</span><a href=\"file:///home/amenzies/.local/lib/python3.10/site-packages/soccerdata/_config.py#196\" target=\"_blank\"><span style=\"color: #7f7f7f; text-decoration-color: #7f7f7f\">196</span></a>\n",
       "<span style=\"color: #7fbfbf; text-decoration-color: #7fbfbf\">                    </span>         <span style=\"color: #800080; text-decoration-color: #800080\">/home/amenzies/soccerdata/config/</span><span style=\"color: #ff00ff; text-decoration-color: #ff00ff\">league_dict.json.</span>                      <span style=\"color: #7f7f7f; text-decoration-color: #7f7f7f\">              </span>\n",
       "</pre>\n"
      ],
      "text/plain": [
       "\u001b[2;36m                   \u001b[0m\u001b[2;36m \u001b[0m\u001b[34mINFO    \u001b[0m No custom league dict found. You can configure additional leagues in    \u001b]8;id=709723;file:///home/amenzies/.local/lib/python3.10/site-packages/soccerdata/_config.py\u001b\\\u001b[2m_config.py\u001b[0m\u001b]8;;\u001b\\\u001b[2m:\u001b[0m\u001b]8;id=279016;file:///home/amenzies/.local/lib/python3.10/site-packages/soccerdata/_config.py#196\u001b\\\u001b[2m196\u001b[0m\u001b]8;;\u001b\\\n",
       "\u001b[2;36m                    \u001b[0m         \u001b[35m/home/amenzies/soccerdata/config/\u001b[0m\u001b[95mleague_dict.json.\u001b[0m                      \u001b[2m              \u001b[0m\n"
      ]
     },
     "metadata": {},
     "output_type": "display_data"
    }
   ],
   "source": [
    "import soccerdata as sd\n",
    "import pandas as pd"
   ]
  },
  {
   "cell_type": "code",
   "execution_count": 2,
   "metadata": {},
   "outputs": [],
   "source": [
    "team_names = [\"ENG-Premier League\",\n",
    "              \"ESP-La Liga\",\n",
    "              \"ITA-Serie A\",\n",
    "              \"GER-Bundesliga\",\n",
    "              \"FRA-Ligue 1\"]"
   ]
  },
  {
   "cell_type": "code",
   "execution_count": 3,
   "metadata": {},
   "outputs": [
    {
     "data": {
      "text/html": [
       "<pre style=\"white-space:pre;overflow-x:auto;line-height:normal;font-family:Menlo,'DejaVu Sans Mono',consolas,'Courier New',monospace\"><span style=\"color: #7fbfbf; text-decoration-color: #7fbfbf\">                    </span><span style=\"color: #000080; text-decoration-color: #000080\">INFO    </span> Saving cached data to <span style=\"color: #800080; text-decoration-color: #800080\">/home/amenzies/soccerdata/data/</span><span style=\"color: #ff00ff; text-decoration-color: #ff00ff\">ESPN</span>               <a href=\"file:///home/amenzies/.local/lib/python3.10/site-packages/soccerdata/_common.py\" target=\"_blank\"><span style=\"color: #7f7f7f; text-decoration-color: #7f7f7f\">_common.py</span></a><span style=\"color: #7f7f7f; text-decoration-color: #7f7f7f\">:</span><a href=\"file:///home/amenzies/.local/lib/python3.10/site-packages/soccerdata/_common.py#263\" target=\"_blank\"><span style=\"color: #7f7f7f; text-decoration-color: #7f7f7f\">263</span></a>\n",
       "</pre>\n"
      ],
      "text/plain": [
       "\u001b[2;36m                   \u001b[0m\u001b[2;36m \u001b[0m\u001b[34mINFO    \u001b[0m Saving cached data to \u001b[35m/home/amenzies/soccerdata/data/\u001b[0m\u001b[95mESPN\u001b[0m               \u001b]8;id=608170;file:///home/amenzies/.local/lib/python3.10/site-packages/soccerdata/_common.py\u001b\\\u001b[2m_common.py\u001b[0m\u001b]8;;\u001b\\\u001b[2m:\u001b[0m\u001b]8;id=34033;file:///home/amenzies/.local/lib/python3.10/site-packages/soccerdata/_common.py#263\u001b\\\u001b[2m263\u001b[0m\u001b]8;;\u001b\\\n"
      ]
     },
     "metadata": {},
     "output_type": "display_data"
    },
    {
     "name": "stderr",
     "output_type": "stream",
     "text": [
      "/home/amenzies/.local/lib/python3.10/site-packages/soccerdata/_common.py:145: UserWarning: Season id \"2021\" is ambiguous: interpreting as \"20-21\"\n",
      "  warnings.warn(msg, stacklevel=1)\n"
     ]
    }
   ],
   "source": [
    "espn = sd.ESPN(leagues=\"ENG-Premier League\", seasons=2021)"
   ]
  },
  {
   "cell_type": "code",
   "execution_count": 4,
   "metadata": {},
   "outputs": [
    {
     "data": {
      "text/html": [
       "<div>\n",
       "<style scoped>\n",
       "    .dataframe tbody tr th:only-of-type {\n",
       "        vertical-align: middle;\n",
       "    }\n",
       "\n",
       "    .dataframe tbody tr th {\n",
       "        vertical-align: top;\n",
       "    }\n",
       "\n",
       "    .dataframe thead th {\n",
       "        text-align: right;\n",
       "    }\n",
       "</style>\n",
       "<table border=\"1\" class=\"dataframe\">\n",
       "  <thead>\n",
       "    <tr style=\"text-align: right;\">\n",
       "      <th></th>\n",
       "      <th></th>\n",
       "      <th></th>\n",
       "      <th></th>\n",
       "      <th>is_home</th>\n",
       "      <th>venue</th>\n",
       "      <th>attendance</th>\n",
       "      <th>capacity</th>\n",
       "      <th>roster</th>\n",
       "      <th>fouls_committed</th>\n",
       "      <th>yellow_cards</th>\n",
       "      <th>red_cards</th>\n",
       "      <th>offsides</th>\n",
       "      <th>won_corners</th>\n",
       "      <th>...</th>\n",
       "      <th>total_long_balls</th>\n",
       "      <th>accurate_long_balls</th>\n",
       "      <th>longball_pct</th>\n",
       "      <th>blocked_shots</th>\n",
       "      <th>effective_tackles</th>\n",
       "      <th>total_tackles</th>\n",
       "      <th>tackle_pct</th>\n",
       "      <th>interceptions</th>\n",
       "      <th>effective_clearance</th>\n",
       "      <th>total_clearance</th>\n",
       "    </tr>\n",
       "    <tr>\n",
       "      <th>league</th>\n",
       "      <th>season</th>\n",
       "      <th>game</th>\n",
       "      <th>team</th>\n",
       "      <th></th>\n",
       "      <th></th>\n",
       "      <th></th>\n",
       "      <th></th>\n",
       "      <th></th>\n",
       "      <th></th>\n",
       "      <th></th>\n",
       "      <th></th>\n",
       "      <th></th>\n",
       "      <th></th>\n",
       "      <th></th>\n",
       "      <th></th>\n",
       "      <th></th>\n",
       "      <th></th>\n",
       "      <th></th>\n",
       "      <th></th>\n",
       "      <th></th>\n",
       "      <th></th>\n",
       "      <th></th>\n",
       "      <th></th>\n",
       "      <th></th>\n",
       "    </tr>\n",
       "  </thead>\n",
       "  <tbody>\n",
       "    <tr>\n",
       "      <th rowspan=\"2\" valign=\"top\">ENG-Premier League</th>\n",
       "      <th rowspan=\"2\" valign=\"top\">2021</th>\n",
       "      <th rowspan=\"2\" valign=\"top\">2020-07-26 West Ham United-Aston Villa</th>\n",
       "      <th>Aston Villa</th>\n",
       "      <td>False</td>\n",
       "      <td>London Stadium</td>\n",
       "      <td>0</td>\n",
       "      <td>None</td>\n",
       "      <td>[{'active': True, 'starter': True, 'jersey': '...</td>\n",
       "      <td>13</td>\n",
       "      <td>1</td>\n",
       "      <td>0</td>\n",
       "      <td>1</td>\n",
       "      <td>7</td>\n",
       "      <td>...</td>\n",
       "      <td>63</td>\n",
       "      <td>22</td>\n",
       "      <td>0.3</td>\n",
       "      <td>3</td>\n",
       "      <td>3</td>\n",
       "      <td>13</td>\n",
       "      <td>0.2</td>\n",
       "      <td>10</td>\n",
       "      <td>11</td>\n",
       "      <td>11</td>\n",
       "    </tr>\n",
       "    <tr>\n",
       "      <th>West Ham United</th>\n",
       "      <td>True</td>\n",
       "      <td>London Stadium</td>\n",
       "      <td>0</td>\n",
       "      <td>None</td>\n",
       "      <td>[{'active': True, 'starter': True, 'jersey': '...</td>\n",
       "      <td>16</td>\n",
       "      <td>2</td>\n",
       "      <td>0</td>\n",
       "      <td>0</td>\n",
       "      <td>0</td>\n",
       "      <td>...</td>\n",
       "      <td>61</td>\n",
       "      <td>25</td>\n",
       "      <td>0.4</td>\n",
       "      <td>3</td>\n",
       "      <td>8</td>\n",
       "      <td>15</td>\n",
       "      <td>0.5</td>\n",
       "      <td>6</td>\n",
       "      <td>26</td>\n",
       "      <td>26</td>\n",
       "    </tr>\n",
       "  </tbody>\n",
       "</table>\n",
       "<p>2 rows × 33 columns</p>\n",
       "</div>"
      ],
      "text/plain": [
       "                                                                                  is_home  \\\n",
       "league             season game                                   team                       \n",
       "ENG-Premier League 2021   2020-07-26 West Ham United-Aston Villa Aston Villa        False   \n",
       "                                                                 West Ham United     True   \n",
       "\n",
       "                                                                                           venue  \\\n",
       "league             season game                                   team                              \n",
       "ENG-Premier League 2021   2020-07-26 West Ham United-Aston Villa Aston Villa      London Stadium   \n",
       "                                                                 West Ham United  London Stadium   \n",
       "\n",
       "                                                                                  attendance  \\\n",
       "league             season game                                   team                          \n",
       "ENG-Premier League 2021   2020-07-26 West Ham United-Aston Villa Aston Villa               0   \n",
       "                                                                 West Ham United           0   \n",
       "\n",
       "                                                                                 capacity  \\\n",
       "league             season game                                   team                       \n",
       "ENG-Premier League 2021   2020-07-26 West Ham United-Aston Villa Aston Villa         None   \n",
       "                                                                 West Ham United     None   \n",
       "\n",
       "                                                                                                                             roster  \\\n",
       "league             season game                                   team                                                                 \n",
       "ENG-Premier League 2021   2020-07-26 West Ham United-Aston Villa Aston Villa      [{'active': True, 'starter': True, 'jersey': '...   \n",
       "                                                                 West Ham United  [{'active': True, 'starter': True, 'jersey': '...   \n",
       "\n",
       "                                                                                 fouls_committed  \\\n",
       "league             season game                                   team                              \n",
       "ENG-Premier League 2021   2020-07-26 West Ham United-Aston Villa Aston Villa                  13   \n",
       "                                                                 West Ham United              16   \n",
       "\n",
       "                                                                                 yellow_cards  \\\n",
       "league             season game                                   team                           \n",
       "ENG-Premier League 2021   2020-07-26 West Ham United-Aston Villa Aston Villa                1   \n",
       "                                                                 West Ham United            2   \n",
       "\n",
       "                                                                                 red_cards  \\\n",
       "league             season game                                   team                        \n",
       "ENG-Premier League 2021   2020-07-26 West Ham United-Aston Villa Aston Villa             0   \n",
       "                                                                 West Ham United         0   \n",
       "\n",
       "                                                                                 offsides  \\\n",
       "league             season game                                   team                       \n",
       "ENG-Premier League 2021   2020-07-26 West Ham United-Aston Villa Aston Villa            1   \n",
       "                                                                 West Ham United        0   \n",
       "\n",
       "                                                                                 won_corners  \\\n",
       "league             season game                                   team                          \n",
       "ENG-Premier League 2021   2020-07-26 West Ham United-Aston Villa Aston Villa               7   \n",
       "                                                                 West Ham United           0   \n",
       "\n",
       "                                                                                  ...  \\\n",
       "league             season game                                   team             ...   \n",
       "ENG-Premier League 2021   2020-07-26 West Ham United-Aston Villa Aston Villa      ...   \n",
       "                                                                 West Ham United  ...   \n",
       "\n",
       "                                                                                 total_long_balls  \\\n",
       "league             season game                                   team                               \n",
       "ENG-Premier League 2021   2020-07-26 West Ham United-Aston Villa Aston Villa                   63   \n",
       "                                                                 West Ham United               61   \n",
       "\n",
       "                                                                                 accurate_long_balls  \\\n",
       "league             season game                                   team                                  \n",
       "ENG-Premier League 2021   2020-07-26 West Ham United-Aston Villa Aston Villa                      22   \n",
       "                                                                 West Ham United                  25   \n",
       "\n",
       "                                                                                 longball_pct  \\\n",
       "league             season game                                   team                           \n",
       "ENG-Premier League 2021   2020-07-26 West Ham United-Aston Villa Aston Villa              0.3   \n",
       "                                                                 West Ham United          0.4   \n",
       "\n",
       "                                                                                 blocked_shots  \\\n",
       "league             season game                                   team                            \n",
       "ENG-Premier League 2021   2020-07-26 West Ham United-Aston Villa Aston Villa                 3   \n",
       "                                                                 West Ham United             3   \n",
       "\n",
       "                                                                                 effective_tackles  \\\n",
       "league             season game                                   team                                \n",
       "ENG-Premier League 2021   2020-07-26 West Ham United-Aston Villa Aston Villa                     3   \n",
       "                                                                 West Ham United                 8   \n",
       "\n",
       "                                                                                 total_tackles  \\\n",
       "league             season game                                   team                            \n",
       "ENG-Premier League 2021   2020-07-26 West Ham United-Aston Villa Aston Villa                13   \n",
       "                                                                 West Ham United            15   \n",
       "\n",
       "                                                                                 tackle_pct  \\\n",
       "league             season game                                   team                         \n",
       "ENG-Premier League 2021   2020-07-26 West Ham United-Aston Villa Aston Villa            0.2   \n",
       "                                                                 West Ham United        0.5   \n",
       "\n",
       "                                                                                 interceptions  \\\n",
       "league             season game                                   team                            \n",
       "ENG-Premier League 2021   2020-07-26 West Ham United-Aston Villa Aston Villa                10   \n",
       "                                                                 West Ham United             6   \n",
       "\n",
       "                                                                                 effective_clearance  \\\n",
       "league             season game                                   team                                  \n",
       "ENG-Premier League 2021   2020-07-26 West Ham United-Aston Villa Aston Villa                      11   \n",
       "                                                                 West Ham United                  26   \n",
       "\n",
       "                                                                                 total_clearance  \n",
       "league             season game                                   team                             \n",
       "ENG-Premier League 2021   2020-07-26 West Ham United-Aston Villa Aston Villa                  11  \n",
       "                                                                 West Ham United              26  \n",
       "\n",
       "[2 rows x 33 columns]"
      ]
     },
     "execution_count": 4,
     "metadata": {},
     "output_type": "execute_result"
    }
   ],
   "source": [
    "matchsheet = espn.read_matchsheet(match_id=541465)\n",
    "matchsheet.head()"
   ]
  },
  {
   "cell_type": "code",
   "execution_count": 5,
   "metadata": {},
   "outputs": [],
   "source": [
    "epl_schedule = espn.read_schedule()"
   ]
  },
  {
   "cell_type": "code",
   "execution_count": 6,
   "metadata": {},
   "outputs": [],
   "source": [
    "matchsheet_data = []"
   ]
  },
  {
   "cell_type": "code",
   "execution_count": 7,
   "metadata": {},
   "outputs": [],
   "source": [
    "# Loop through each row in the epl_schedule dataframe\n",
    "for index, row in epl_schedule.iterrows():\n",
    "    game_id = row['game_id']\n",
    "    home_team = row['home_team']\n",
    "    away_team = row['away_team']\n",
    "    try:\n",
    "        # Read match sheet data for the current game_id\n",
    "        matchsheet = espn.read_matchsheet(match_id=game_id)\n",
    "        \n",
    "        # Add home_team and away_team to the matchsheet dataframe\n",
    "        matchsheet['home_team'] = home_team\n",
    "        matchsheet['away_team'] = away_team\n",
    "        matchsheet['season'] = '2015'\n",
    "        \n",
    "        # Append the match sheet dataframe to the list\n",
    "        matchsheet_data.append(matchsheet)\n",
    "\n",
    "    except Exception as e:\n",
    "        # Handle any errors gracefully and log them\n",
    "        print(f\"Error fetching matchsheet for game_id {game_id}: {e}\")"
   ]
  },
  {
   "cell_type": "code",
   "execution_count": 8,
   "metadata": {},
   "outputs": [],
   "source": [
    "all_matchsheets = pd.concat(matchsheet_data, ignore_index=True)"
   ]
  },
  {
   "cell_type": "code",
   "execution_count": 9,
   "metadata": {},
   "outputs": [
    {
     "name": "stdout",
     "output_type": "stream",
     "text": [
      "   is_home             venue  attendance capacity  \\\n",
      "0     True           Anfield       53333     None   \n",
      "1    False           Anfield       53333     None   \n",
      "2     True  Vitality Stadium       10714     None   \n",
      "3    False  Vitality Stadium       10714     None   \n",
      "4     True         Turf Moor       19784     None   \n",
      "\n",
      "                                              roster fouls_committed  \\\n",
      "0  [{'active': True, 'starter': True, 'jersey': '...               9   \n",
      "1  [{'active': True, 'starter': True, 'jersey': '...               9   \n",
      "2  [{'active': True, 'starter': True, 'jersey': '...              10   \n",
      "3  [{'active': True, 'starter': True, 'jersey': '...              19   \n",
      "4  [{'active': True, 'starter': True, 'jersey': '...               6   \n",
      "\n",
      "  yellow_cards red_cards offsides won_corners  ... blocked_shots  \\\n",
      "0            0         0        0          11  ...             3   \n",
      "1            2         0        5           2  ...             2   \n",
      "2            2         0        1           3  ...             3   \n",
      "3            1         0        1           4  ...             1   \n",
      "4            0         0        5           2  ...             2   \n",
      "\n",
      "  effective_tackles total_tackles tackle_pct interceptions  \\\n",
      "0                13            21        0.6            14   \n",
      "1                 8            12        0.7            11   \n",
      "2                13            18        0.7            13   \n",
      "3                11            14        0.8            14   \n",
      "4                12            21        0.6            14   \n",
      "\n",
      "  effective_clearance total_clearance        home_team         away_team  \\\n",
      "0                   5               5        Liverpool      Norwich City   \n",
      "1                  35              35        Liverpool      Norwich City   \n",
      "2                  13              13  AFC Bournemouth  Sheffield United   \n",
      "3                  16              16  AFC Bournemouth  Sheffield United   \n",
      "4                  13              13          Burnley       Southampton   \n",
      "\n",
      "  season  \n",
      "0   2015  \n",
      "1   2015  \n",
      "2   2015  \n",
      "3   2015  \n",
      "4   2015  \n",
      "\n",
      "[5 rows x 36 columns]\n"
     ]
    }
   ],
   "source": [
    "print(all_matchsheets.head())"
   ]
  },
  {
   "cell_type": "code",
   "execution_count": 10,
   "metadata": {},
   "outputs": [],
   "source": [
    "columns_to_keep = [\n",
    "    'home_team', 'away_team', 'is_home', 'season', 'venue', 'attendance', 'total_shots', 'fouls_committed', 'yellow_cards', 'won_corners', \n",
    "    'red_cards', 'saves', 'possession_pct', 'accurate_passes', 'total_passes',\n",
    "    'accurate_crosses', 'total_crosses', 'longball_pct', 'blocked_shots', \n",
    "    'effective_tackles', 'total_tackles', 'interceptions', 'total_clearance'\n",
    "]\n",
    "\n",
    "# Filter the dataframe to keep only the specified columns\n",
    "filtered_matchsheets = all_matchsheets[columns_to_keep]"
   ]
  },
  {
   "cell_type": "code",
   "execution_count": 11,
   "metadata": {},
   "outputs": [
    {
     "name": "stdout",
     "output_type": "stream",
     "text": [
      "         home_team         away_team  is_home season             venue  \\\n",
      "0        Liverpool      Norwich City     True   2015           Anfield   \n",
      "1        Liverpool      Norwich City    False   2015           Anfield   \n",
      "2  AFC Bournemouth  Sheffield United     True   2015  Vitality Stadium   \n",
      "3  AFC Bournemouth  Sheffield United    False   2015  Vitality Stadium   \n",
      "4          Burnley       Southampton     True   2015         Turf Moor   \n",
      "\n",
      "   attendance total_shots fouls_committed yellow_cards won_corners  ...  \\\n",
      "0       53333          15               9            0          11  ...   \n",
      "1       53333          12               9            2           2  ...   \n",
      "2       10714          13              10            2           3  ...   \n",
      "3       10714           8              19            1           4  ...   \n",
      "4       19784          10               6            0           2  ...   \n",
      "\n",
      "  accurate_passes total_passes accurate_crosses total_crosses longball_pct  \\\n",
      "0             387          477                5            32          0.5   \n",
      "1             278          363                1             2          0.4   \n",
      "2             384          485                2            14          0.3   \n",
      "3             332          428                4            18          0.3   \n",
      "4             183          332                6            14          0.3   \n",
      "\n",
      "  blocked_shots effective_tackles total_tackles interceptions total_clearance  \n",
      "0             3                13            21            14               5  \n",
      "1             2                 8            12            11              35  \n",
      "2             3                13            18            13              13  \n",
      "3             1                11            14            14              16  \n",
      "4             2                12            21            14              13  \n",
      "\n",
      "[5 rows x 23 columns]\n"
     ]
    }
   ],
   "source": [
    "print(filtered_matchsheets.head())"
   ]
  },
  {
   "cell_type": "code",
   "execution_count": null,
   "metadata": {},
   "outputs": [],
   "source": [
    "filtered_matchsheets.to_csv('performanceData/EPL_2015_matchsheets.csv', index=False)"
   ]
  },
  {
   "cell_type": "code",
   "execution_count": null,
   "metadata": {},
   "outputs": [],
   "source": []
  }
 ],
 "metadata": {
  "kernelspec": {
   "display_name": "Python 3",
   "language": "python",
   "name": "python3"
  },
  "language_info": {
   "codemirror_mode": {
    "name": "ipython",
    "version": 3
   },
   "file_extension": ".py",
   "mimetype": "text/x-python",
   "name": "python",
   "nbconvert_exporter": "python",
   "pygments_lexer": "ipython3",
   "version": "3.10.12"
  }
 },
 "nbformat": 4,
 "nbformat_minor": 2
}
